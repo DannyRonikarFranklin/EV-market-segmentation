{
 "cells": [
  {
   "cell_type": "code",
   "execution_count": 25,
   "id": "623ff915-544c-46d9-8854-6da68d6195f1",
   "metadata": {},
   "outputs": [],
   "source": [
    "import pandas as pd\n",
    "import numpy as np\n",
    "import matplotlib.pyplot as plt\n",
    "import seaborn as sns\n",
    "from sklearn.cluster import KMeans\n",
    "from sklearn.preprocessing import StandardScaler\n",
    "from sklearn.decomposition import PCA"
   ]
  },
  {
   "cell_type": "code",
   "execution_count": 26,
   "id": "3e7b5cce-ffde-4fea-9fe0-68a1cf318c8e",
   "metadata": {},
   "outputs": [
    {
     "name": "stdout",
     "output_type": "stream",
     "text": [
      "Loading Behavioral data...\n"
     ]
    }
   ],
   "source": [
    "# 1. Load the Behavioral Data (Only the second file)\n",
    "print(\"Loading Behavioral data...\")\n",
    "try:\n",
    "    behavioral_data = pd.read_excel(r\"D:\\Docs\\EV Project\\B-smev_data(EV 2W FY 21-22).xlsx\")\n",
    "    print(f\"Behavioral data loaded successfully with {behavioral_data.shape[0]} rows and {behavioral_data.shape[1]} columns.\")\n",
    "except Exception as e:\n",
    "    print(f\"Error loading behavioral data: {e}\")\n",
    "    behavioral_data = pd.DataFrame()  # Initialize an empty DataFrame if loading fails\n",
    "\n",
    "    print(\"Behavioral data is empty, skipping clustering.\")\n"
   ]
  },
  {
   "cell_type": "code",
   "execution_count": null,
   "id": "de7311ff-ae5b-4d1d-b571-ed6b5d6c4ec4",
   "metadata": {},
   "outputs": [],
   "source": [
    "\n",
    "# 2. Data Preprocessing\n",
    "def preprocess_data(df):\n",
    "    if df.empty:\n",
    "        print(\"Warning: Empty dataframe received for preprocessing.\")\n",
    "        return df\n",
    "\n",
    "    df = df.dropna()  # Drop missing values\n",
    "    df = df.select_dtypes(include=[np.number])  # Keep numeric data only\n",
    "\n",
    "    if df.empty:\n",
    "        print(\"Warning: No numeric data left after dropping missing values.\")\n",
    "        return df\n",
    "\n",
    "    scaler = StandardScaler()\n",
    "    scaled_data = scaler.fit_transform(df)\n",
    "    return pd.DataFrame(scaled_data, columns=df.columns)\n",
    "\n",
    "if not behavioral_data.empty:\n",
    "    behavioral_data = preprocess_data(behavioral_data)\n",
    "else:\n",
    "    print(\"Behavioral data is empty, skipping preprocessing.\")\n"
   ]
  },
  {
   "cell_type": "code",
   "execution_count": null,
   "id": "08ba8f8d-17e7-455e-aa7d-42dee3fea671",
   "metadata": {},
   "outputs": [],
   "source": [
    "\n",
    "# 3. Correlation Heatmap\n",
    "def visualize_data(df, title):\n",
    "    if df.empty:\n",
    "        print(f\"Warning: No data to visualize for {title}.\")\n",
    "        return\n",
    "    \n",
    "    plt.figure(figsize=(10, 6))\n",
    "    sns.heatmap(df.corr(), annot=True, cmap='coolwarm')\n",
    "    plt.title(f\"Correlation Heatmap: {title}\")\n",
    "    plt.show()\n",
    "\n",
    "if not behavioral_data.empty:\n",
    "    visualize_data(behavioral_data, \"Behavioral Data\")\n",
    "\n",
    "# 4. Clustering for Customer Segmentation\n",
    "def perform_clustering(df, n_clusters, title):\n",
    "    if df.empty:\n",
    "        print(f\"Warning: {title} data is empty. Skipping clustering.\")\n",
    "        return []\n",
    "\n",
    "    kmeans = KMeans(n_clusters=n_clusters, random_state=42)\n",
    "    clusters = kmeans.fit_predict(df)\n",
    "    \n",
    "    # Reduce dimensions using PCA for visualization\n",
    "    pca = PCA(n_components=2)\n",
    "    reduced_data = pca.fit_transform(df)\n",
    "    plt.scatter(reduced_data[:, 0], reduced_data[:, 1], c=clusters, cmap='viridis')\n",
    "    plt.title(f\"Customer Segmentation: {title}\")\n",
    "    plt.xlabel(\"PCA Component 1\")\n",
    "    plt.ylabel(\"PCA Component 2\")\n",
    "    plt.show()\n",
    "\n",
    "    return clusters\n",
    "\n",
    "n_clusters = 4\n",
    "if not behavioral_data.empty:\n",
    "    perform_clustering(behavioral_data, n_clusters, \"Behavioral Data\")\n",
    "else:"
   ]
  }
 ],
 "metadata": {
  "kernelspec": {
   "display_name": "Python 3 (ipykernel)",
   "language": "python",
   "name": "python3"
  },
  "language_info": {
   "codemirror_mode": {
    "name": "ipython",
    "version": 3
   },
   "file_extension": ".py",
   "mimetype": "text/x-python",
   "name": "python",
   "nbconvert_exporter": "python",
   "pygments_lexer": "ipython3",
   "version": "3.12.7"
  }
 },
 "nbformat": 4,
 "nbformat_minor": 5
}
